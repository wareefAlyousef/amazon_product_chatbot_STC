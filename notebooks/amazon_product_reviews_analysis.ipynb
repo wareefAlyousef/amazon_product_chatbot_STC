{
 "cells": [
  {
   "cell_type": "markdown",
   "id": "09f87d95",
   "metadata": {},
   "source": [
    "# Amazon Product Reviews Analysis"
   ]
  },
  {
   "cell_type": "markdown",
   "id": "eaa5e61f",
   "metadata": {},
   "source": [
    "Import libraries "
   ]
  },
  {
   "cell_type": "code",
   "execution_count": 1,
   "id": "0922b934",
   "metadata": {},
   "outputs": [],
   "source": [
    "# Import Required Libraries\n",
    "import numpy as np\n",
    "import pandas as pd\n",
    "import matplotlib as mpl\n",
    "import matplotlib.pyplot as plt\n",
    "import seaborn as sns\n",
    "import sklearn\n",
    "import plotly.express as px"
   ]
  },
  {
   "cell_type": "markdown",
   "id": "e7a73d3d",
   "metadata": {},
   "source": [
    "Read data"
   ]
  }
 ],
 "metadata": {
  "kernelspec": {
   "display_name": "myenv",
   "language": "python",
   "name": "python3"
  },
  "language_info": {
   "codemirror_mode": {
    "name": "ipython",
    "version": 3
   },
   "file_extension": ".py",
   "mimetype": "text/x-python",
   "name": "python",
   "nbconvert_exporter": "python",
   "pygments_lexer": "ipython3",
   "version": "3.10.18"
  }
 },
 "nbformat": 4,
 "nbformat_minor": 5
}
